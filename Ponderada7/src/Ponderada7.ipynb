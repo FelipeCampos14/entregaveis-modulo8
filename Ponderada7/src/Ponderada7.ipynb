{
  "cells": [
    {
      "cell_type": "markdown",
      "metadata": {
        "id": "1UYu35Yo_BHL"
      },
      "source": [
        "# Implementação de multi-layer perceptron"
      ]
    },
    {
      "cell_type": "markdown",
      "metadata": {
        "id": "pp2BAr2k_nOT"
      },
      "source": [
        "# Importações"
      ]
    },
    {
      "cell_type": "code",
      "execution_count": 11,
      "metadata": {
        "id": "vBFSUdhL_mx9"
      },
      "outputs": [],
      "source": [
        "import numpy as np\n",
        "import random\n",
        "import matplotlib.pyplot as plt\n",
        "import tensorflow as tf\n",
        "from tensorflow.keras.datasets import mnist\n",
        "from keras.models import Sequential\n",
        "from keras.layers import Dense\n",
        "from random import randint"
      ]
    },
    {
      "cell_type": "markdown",
      "metadata": {
        "id": "_HVa83FxIs5P"
      },
      "source": [
        "# MNIST"
      ]
    },
    {
      "cell_type": "markdown",
      "metadata": {
        "id": "fNG9fdcJAFof"
      },
      "source": [
        "## Carregando o dataset"
      ]
    },
    {
      "cell_type": "code",
      "execution_count": 12,
      "metadata": {
        "colab": {
          "base_uri": "https://localhost:8080/"
        },
        "id": "YBGctW7lTj_9",
        "outputId": "992b306d-b424-441a-b154-2fd98c85a7f1"
      },
      "outputs": [],
      "source": [
        "(x_train, y_train),(x_test, y_test) = mnist.load_data()"
      ]
    },
    {
      "cell_type": "markdown",
      "metadata": {
        "id": "3DzZH4_2Iw7e"
      },
      "source": [
        "# MNIST c/ Conv. Net"
      ]
    },
    {
      "cell_type": "markdown",
      "metadata": {
        "id": "AfeP9IypHpv7"
      },
      "source": [
        "## Configurando a rede neural"
      ]
    },
    {
      "cell_type": "code",
      "execution_count": 13,
      "metadata": {
        "colab": {
          "base_uri": "https://localhost:8080/"
        },
        "id": "at9qv2FOQHip",
        "outputId": "e9a61166-1c07-40c6-b11b-b64a175f2a24"
      },
      "outputs": [],
      "source": [
        "# Feature Learning Section\n",
        "model_conv = tf.keras.models.Sequential()  # a basic feed-forward model\n",
        "model_conv.add(tf.keras.layers.Conv2D(32, (3, 3), activation='relu', input_shape=(28, 28, 1)))\n",
        "model_conv.add(tf.keras.layers.MaxPooling2D((2, 2))) # Pooling para reduzir a dimensionalidade de sem perder o perfil característico, as features, das images\n",
        "model_conv.add(tf.keras.layers.Conv2D(64, (3, 3), activation='relu'))\n",
        "model_conv.add(tf.keras.layers.MaxPooling2D((2, 2))) "
      ]
    },
    {
      "cell_type": "markdown",
      "metadata": {},
      "source": [
        "![FeatureLearning](../images/featureLearning.jpeg)\n"
      ]
    },
    {
      "cell_type": "code",
      "execution_count": 14,
      "metadata": {},
      "outputs": [],
      "source": [
        "# Class Identification Section\n",
        "model_conv.add(tf.keras.layers.Flatten())\n",
        "model_conv.add(tf.keras.layers.Dense(128, activation=\"relu\"))  # a simple fully-connected layer, 128 units, relu activation\n",
        "model_conv.add(tf.keras.layers.Dense(10))  # a simple fully-connected layer, 128 units, relu activation"
      ]
    },
    {
      "cell_type": "markdown",
      "metadata": {},
      "source": [
        "![Classification](../images/classIdentification.jpeg)\n"
      ]
    },
    {
      "cell_type": "code",
      "execution_count": 15,
      "metadata": {},
      "outputs": [
        {
          "name": "stdout",
          "output_type": "stream",
          "text": [
            "Model: \"sequential_1\"\n",
            "_________________________________________________________________\n",
            " Layer (type)                Output Shape              Param #   \n",
            "=================================================================\n",
            " conv2d_2 (Conv2D)           (None, 26, 26, 32)        320       \n",
            "                                                                 \n",
            " max_pooling2d_2 (MaxPoolin  (None, 13, 13, 32)        0         \n",
            " g2D)                                                            \n",
            "                                                                 \n",
            " conv2d_3 (Conv2D)           (None, 11, 11, 64)        18496     \n",
            "                                                                 \n",
            " max_pooling2d_3 (MaxPoolin  (None, 5, 5, 64)          0         \n",
            " g2D)                                                            \n",
            "                                                                 \n",
            " flatten_1 (Flatten)         (None, 1600)              0         \n",
            "                                                                 \n",
            " dense_2 (Dense)             (None, 128)               204928    \n",
            "                                                                 \n",
            " dense_3 (Dense)             (None, 10)                1290      \n",
            "                                                                 \n",
            "=================================================================\n",
            "Total params: 225034 (879.04 KB)\n",
            "Trainable params: 225034 (879.04 KB)\n",
            "Non-trainable params: 0 (0.00 Byte)\n",
            "_________________________________________________________________\n"
          ]
        }
      ],
      "source": [
        "model_conv.summary()\n",
        "model_conv.compile(optimizer='adam',  # Good default optimizer to start with\n",
        "              loss=tf.keras.losses.SparseCategoricalCrossentropy(from_logits=True),  # how will we calculate our \"error.\" Neural network aims to minimize loss.\n",
        "              metrics=['accuracy'])  # what to track"
      ]
    },
    {
      "cell_type": "markdown",
      "metadata": {
        "id": "mj7qlIbRCKxV"
      },
      "source": [
        "## Treinando\n",
        "\n"
      ]
    },
    {
      "cell_type": "code",
      "execution_count": 16,
      "metadata": {
        "colab": {
          "base_uri": "https://localhost:8080/"
        },
        "id": "BojyG0W1Os0f",
        "outputId": "f3015c59-3010-46b6-bb49-090578199bf9"
      },
      "outputs": [
        {
          "name": "stdout",
          "output_type": "stream",
          "text": [
            "Epoch 1/3\n",
            "1875/1875 [==============================] - 29s 15ms/step - loss: 0.2907 - accuracy: 0.9541\n",
            "Epoch 2/3\n",
            "1875/1875 [==============================] - 28s 15ms/step - loss: 0.0614 - accuracy: 0.9823\n",
            "Epoch 3/3\n",
            "1875/1875 [==============================] - 28s 15ms/step - loss: 0.0445 - accuracy: 0.9863\n"
          ]
        },
        {
          "data": {
            "text/plain": [
              "<keras.src.callbacks.History at 0x7fb4c6790c10>"
            ]
          },
          "execution_count": 16,
          "metadata": {},
          "output_type": "execute_result"
        }
      ],
      "source": [
        "model_conv.fit(x_train, y_train, epochs=3)  # train the model"
      ]
    },
    {
      "cell_type": "markdown",
      "metadata": {
        "id": "bDnGA55DOtzM"
      },
      "source": [
        "## Testando o resultado"
      ]
    },
    {
      "cell_type": "code",
      "execution_count": 17,
      "metadata": {
        "colab": {
          "base_uri": "https://localhost:8080/"
        },
        "id": "FrtF1sYZOvkG",
        "outputId": "a0c1b90c-c352-431b-8a77-9d89d64b3155"
      },
      "outputs": [
        {
          "name": "stdout",
          "output_type": "stream",
          "text": [
            "313/313 [==============================] - 2s 6ms/step\n"
          ]
        }
      ],
      "source": [
        "predict = model_conv.predict(x_test)"
      ]
    },
    {
      "cell_type": "code",
      "execution_count": 18,
      "metadata": {
        "colab": {
          "base_uri": "https://localhost:8080/",
          "height": 447
        },
        "id": "H1Kg2iugmhk-",
        "outputId": "dd213bd6-f6b9-48fe-8f91-1f03979fe4ad"
      },
      "outputs": [
        {
          "data": {
            "image/png": "[encoded data removed]",
            "text/plain": [
              "<Figure size 640x480 with 1 Axes>"
            ]
          },
          "metadata": {},
          "output_type": "display_data"
        },
        {
          "name": "stdout",
          "output_type": "stream",
          "text": [
            "Predição:  8\n"
          ]
        }
      ],
      "source": [
        "random_value = randint(0, len(predict))\n",
        "\n",
        "plt.imshow(x_test[random_value],cmap=plt.cm.binary)\n",
        "plt.show()\n",
        "\n",
        "\n",
        "print('Predição: ', np.argmax(predict[random_value]))"
      ]
    }
  ],
  "metadata": {
    "accelerator": "GPU",
    "colab": {
      "provenance": []
    },
    "kernelspec": {
      "display_name": "Python 3",
      "name": "python3"
    },
    "language_info": {
      "codemirror_mode": {
        "name": "ipython",
        "version": 3
      },
      "file_extension": ".py",
      "mimetype": "text/x-python",
      "name": "python",
      "nbconvert_exporter": "python",
      "pygments_lexer": "ipython3",
      "version": "3.10.12"
    }
  },
  "nbformat": 4,
  "nbformat_minor": 0
}
